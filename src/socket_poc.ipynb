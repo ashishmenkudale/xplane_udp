{
 "cells": [
  {
   "cell_type": "code",
   "execution_count": null,
   "metadata": {},
   "outputs": [],
   "source": [
    "import socket\n",
    "UDP_IP = \"127.0.0.1\"\n",
    "UDP_PORT = 5005\n",
    "MESSAGE = b\"Hello, World!\"\n",
    "\n",
    "print(\"UDP target IP:\", UDP_IP)\n",
    "print(\"UDP target port:\", UDP_PORT)\n",
    "print(\"message:\", MESSAGE)\n",
    "\n",
    "sock = socket.socket(socket.AF_INET, # Internet\n",
    "                 socket.SOCK_DGRAM) # UDP\n",
    "sock.sendto(MESSAGE, (UDP_IP, UDP_PORT))"
   ]
  },
  {
   "cell_type": "code",
   "execution_count": null,
   "metadata": {},
   "outputs": [
    {
     "name": "stdout",
     "output_type": "stream",
     "text": [
      "received message: b'DATA*\\x01\\x00\\x00\\x00\\xa6\\xb0\\x18D\\xbbV\\xd5B\\xbbV\\xd5B\\x00\\x00\\x00\\x00\\x00\\xc0y\\xc4\\xd9\\x8dFA\\xb1\\x1b\\xcd@\\xbb0\\xae?'\n",
      "received message: b'DATA*\\x01\\x00\\x00\\x00\\xdc0\\x1bD\\xa8\\xc3\\xe6B\\xa8\\xc3\\xe6B\\x00\\x00\\x00\\x00\\x00\\xc0y\\xc4\\xc2\\x97FA\\x85/\\xcd@\\t\\x80\\xae?'\n",
      "received message: b'DATA*\\x01\\x00\\x00\\x00\\xa0\\xaf\\x1dDy\\xf2\\xfaBy\\xf2\\xfaB\\x00\\x00\\x00\\x00\\x00\\xc0y\\xc4>\\xa3FA{F\\xcd@\\xe4\\xdb\\xae?'\n",
      "received message: b'DATA*\\x01\\x00\\x00\\x00f0 D\\xee\\x97\\x07C\\xee\\x97\\x07C\\x00\\x00\\x00\\x00\\x00\\xc0y\\xc4\\xc1\\xaeFA\\x83]\\xcd@\\x018\\xaf?'\n",
      "received message: b'DATA*\\x01\\x00\\x00\\x00\\xdc\\xb0\"DW5\\rCW5\\rC\\x00\\x00\\x00\\x00\\x00\\xc0y\\xc4%\\xb5FAJj\\xcd@\\x1ck\\xaf?'\n",
      "received message: b'DATA*\\x01\\x00\\x00\\x00-1%D\\xb1\\xa9\\x11C\\xb1\\xa9\\x11C\\x00\\x00\\x00\\x00\\x00\\xc0y\\xc46\\xbaFAmt\\xcd@\\xa8\\x93\\xaf?'\n",
      "received message: b\"DATA*\\x01\\x00\\x00\\x00<\\xb1'Df\\xcf\\x1bCf\\xcf\\x1bC\\x00\\x00\\x00\\x00\\x00\\xc0y\\xc4\\xc2\\xc5FA\\x84\\x8b\\xcd@\\x05\\xf0\\xaf?\"\n",
      "received message: b'DATA*\\x01\\x00\\x00\\x00\\xa71*D\\xe9\\xea%C\\xe9\\xea%C\\x00\\x00\\x00\\x00\\x00\\xc0y\\xc4B\\xd1FA\\x84\\xa2\\xcd@\\x05L\\xb0?'\n",
      "received message: b'DATA*\\x01\\x00\\x00\\x00\\xc5\\xb1,D\\xb1\\x0c0C\\xb1\\x0c0C\\x00\\x00\\x00\\x00\\x00\\xc0y\\xc4\\xc9\\xdcFA\\x92\\xb9\\xcd@>\\xa8\\xb0?'\n",
      "received message: b'DATA*\\x01\\x00\\x00\\x00\\n2/Dp&:Cp&:C\\x00\\x00\\x00\\x00\\x00\\xc0y\\xc4G\\xe8FA\\x8e\\xd0\\xcd@.\\x04\\xb1?'\n",
      "received message: b\"DATA*\\x01\\x00\\x00\\x00'\\xb21DE/DCE/DC\\x00\\x00\\x00\\x00\\x00\\xc0y\\xc4\\xb2\\xf3FAd\\xe7\\xcd@\\x84_\\xb1?\"\n",
      "received message: b'DATA*\\x01\\x00\\x00\\x00\\xeb14D0GNC0GNC\\x00\\x00\\x00\\x00\\x00\\xc0y\\xc4.\\xffFA[\\xfe\\xcd@d\\xbb\\xb1?'\n",
      "received message: b'DATA*\\x01\\x00\\x00\\x00\\x93\\xb16D\\x8aeXC\\x8aeXC\\x00\\x00\\x00\\x00\\x00\\xc0y\\xc4\\xb1\\nGAb\\x15\\xce@~\\x17\\xb2?'\n",
      "received message: b'DATA*\\x01\\x00\\x00\\x00p19D\\xdavbC\\xdavbC\\x00\\x00\\x00\\x00\\x00\\xc0y\\xc4%\\x16GAK,\\xce@!s\\xb2?'\n",
      "received message: b\"DATA*\\x01\\x00\\x00\\x00\\x11\\xb1;D\\xb3\\x82lC\\xb3\\x82lC\\x00\\x00\\x00\\x00\\x00\\xc0y\\xc4\\x94!GA'C\\xce@\\x92\\xce\\xb2?\"\n",
      "received message: b'DATA*\\x01\\x00\\x00\\x00~2>D\\x15\\xabvC\\x15\\xabvC\\x00\\x00\\x00\\x00\\x00\\xc0y\\xc4\"-GADZ\\xce@\\x08+\\xb3?'\n",
      "received message: b'DATA*\\x01\\x00\\x00\\x00\\xcb\\xb2@D0FwC0FwC\\x00\\x00\\x00\\x00\\x00\\xc0y\\xc4\\xd3-GA\\xa5[\\xce@\\x8b0\\xb3?'\n",
      "received message: b'DATA*\\x01\\x00\\x00\\x00\\xeb2CD0FwC0FwC\\x00\\x00\\x00\\x00\\x00\\xc0y\\xc4\\xd3-GA\\xa5[\\xce@\\x8b0\\xb3?'\n",
      "received message: b'DATA*\\x01\\x00\\x00\\x00\\x1f\\xb3ED0FwC0FwC\\x00\\x00\\x00\\x00\\x00\\xc0y\\xc4\\xd3-GA\\xa5[\\xce@\\x8b0\\xb3?'\n"
     ]
    }
   ],
   "source": [
    "import socket\n",
    "\n",
    "UDP_IP = \"127.0.0.1\"\n",
    "UDP_PORT = 40\n",
    "\n",
    "sock = socket.socket(socket.AF_INET, # Internet\n",
    "                 socket.SOCK_DGRAM) # UDP\n",
    "sock.bind((UDP_IP, UDP_PORT))\n",
    "\n",
    "while True:\n",
    "    data, addr = sock.recvfrom(1024) # buffer size is 1024 bytes\n",
    "    print(\"received message:\", data)"
   ]
  },
  {
   "cell_type": "code",
   "execution_count": null,
   "metadata": {},
   "outputs": [],
   "source": [
    "received message: b'DATA*\\x01\\x00\\x00\\x00\\xa6\\xb0\\x18D\\xbbV\\xd5B\\xbbV\\xd5B\\x00\\x00\\x00\\x00\\x00\\xc0y\\xc4\\xd9\\x8dFA\\xb1\\x1b\\xcd@\\xbb0\\xae?'\n",
    "received message: b'DATA*\\x01\\x00\\x00\\x00\\xdc0\\x1bD\\xa8\\xc3\\xe6B\\xa8\\xc3\\xe6B\\x00\\x00\\x00\\x00\\x00\\xc0y\\xc4\\xc2\\x97FA\\x85/\\xcd@\\t\\x80\\xae?'\n",
    "received message: b'DATA*\\x01\\x00\\x00\\x00\\xa0\\xaf\\x1dDy\\xf2\\xfaBy\\xf2\\xfaB\\x00\\x00\\x00\\x00\\x00\\xc0y\\xc4>\\xa3FA{F\\xcd@\\xe4\\xdb\\xae?'\n",
    "received message: b'DATA*\\x01\\x00\\x00\\x00f0 D\\xee\\x97\\x07C\\xee\\x97\\x07C\\x00\\x00\\x00\\x00\\x00\\xc0y\\xc4\\xc1\\xaeFA\\x83]\\xcd@\\x018\\xaf?'\n",
    "received message: b'DATA*\\x01\\x00\\x00\\x00\\xdc\\xb0\"DW5\\rCW5\\rC\\x00\\x00\\x00\\x00\\x00\\xc0y\\xc4%\\xb5FAJj\\xcd@\\x1ck\\xaf?'\n",
    "received message: b'DATA*\\x01\\x00\\x00\\x00-1%D\\xb1\\xa9\\x11C\\xb1\\xa9\\x11C\\x00\\x00\\x00\\x00\\x00\\xc0y\\xc46\\xbaFAmt\\xcd@\\xa8\\x93\\xaf?'\n",
    "received message: b\"DATA*\\x01\\x00\\x00\\x00<\\xb1'Df\\xcf\\x1bCf\\xcf\\x1bC\\x00\\x00\\x00\\x00\\x00\\xc0y\\xc4\\xc2\\xc5FA\\x84\\x8b\\xcd@\\x05\\xf0\\xaf?\"\n",
    "received message: b'DATA*\\x01\\x00\\x00\\x00\\xa71*D\\xe9\\xea%C\\xe9\\xea%C\\x00\\x00\\x00\\x00\\x00\\xc0y\\xc4B\\xd1FA\\x84\\xa2\\xcd@\\x05L\\xb0?'\n",
    "received message: b'DATA*\\x01\\x00\\x00\\x00\\xc5\\xb1,D\\xb1\\x0c0C\\xb1\\x0c0C\\x00\\x00\\x00\\x00\\x00\\xc0y\\xc4\\xc9\\xdcFA\\x92\\xb9\\xcd@>\\xa8\\xb0?'\n",
    "received message: b'DATA*\\x01\\x00\\x00\\x00\\n2/Dp&:Cp&:C\\x00\\x00\\x00\\x00\\x00\\xc0y\\xc4G\\xe8FA\\x8e\\xd0\\xcd@.\\x04\\xb1?'\n",
    "received message: b\"DATA*\\x01\\x00\\x00\\x00'\\xb21DE/DCE/DC\\x00\\x00\\x00\\x00\\x00\\xc0y\\xc4\\xb2\\xf3FAd\\xe7\\xcd@\\x84_\\xb1?\"\n",
    "received message: b'DATA*\\x01\\x00\\x00\\x00\\xeb14D0GNC0GNC\\x00\\x00\\x00\\x00\\x00\\xc0y\\xc4.\\xffFA[\\xfe\\xcd@d\\xbb\\xb1?'\n",
    "received message: b'DATA*\\x01\\x00\\x00\\x00\\x93\\xb16D\\x8aeXC\\x8aeXC\\x00\\x00\\x00\\x00\\x00\\xc0y\\xc4\\xb1\\nGAb\\x15\\xce@~\\x17\\xb2?'\n",
    "received message: b'DATA*\\x01\\x00\\x00\\x00p19D\\xdavbC\\xdavbC\\x00\\x00\\x00\\x00\\x00\\xc0y\\xc4%\\x16GAK,\\xce@!s\\xb2?'\n",
    "received message: b\"DATA*\\x01\\x00\\x00\\x00\\x11\\xb1;D\\xb3\\x82lC\\xb3\\x82lC\\x00\\x00\\x00\\x00\\x00\\xc0y\\xc4\\x94!GA'C\\xce@\\x92\\xce\\xb2?\"\n",
    "received message: b'DATA*\\x01\\x00\\x00\\x00~2>D\\x15\\xabvC\\x15\\xabvC\\x00\\x00\\x00\\x00\\x00\\xc0y\\xc4\"-GADZ\\xce@\\x08+\\xb3?'\n",
    "received message: b'DATA*\\x01\\x00\\x00\\x00\\xcb\\xb2@D0FwC0FwC\\x00\\x00\\x00\\x00\\x00\\xc0y\\xc4\\xd3-GA\\xa5[\\xce@\\x8b0\\xb3?'\n",
    "received message: b'DATA*\\x01\\x00\\x00\\x00\\xeb2CD0FwC0FwC\\x00\\x00\\x00\\x00\\x00\\xc0y\\xc4\\xd3-GA\\xa5[\\xce@\\x8b0\\xb3?'\n",
    "received message: b'DATA*\\x01\\x00\\x00\\x00\\x1f\\xb3ED0FwC0FwC\\x00\\x00\\x00\\x00\\x00\\xc0y\\xc4\\xd3-GA\\xa5[\\xce@\\x8b0\\xb3?'"
   ]
  },
  {
   "cell_type": "code",
   "execution_count": null,
   "metadata": {},
   "outputs": [],
   "source": []
  },
  {
   "cell_type": "code",
   "execution_count": null,
   "metadata": {},
   "outputs": [],
   "source": []
  }
 ],
 "metadata": {
  "kernelspec": {
   "display_name": "xplane_udp",
   "language": "python",
   "name": "xplane_udp"
  },
  "language_info": {
   "codemirror_mode": {
    "name": "ipython",
    "version": 3
   },
   "file_extension": ".py",
   "mimetype": "text/x-python",
   "name": "python",
   "nbconvert_exporter": "python",
   "pygments_lexer": "ipython3",
   "version": "3.8.5"
  }
 },
 "nbformat": 4,
 "nbformat_minor": 4
}
